{
 "cells": [
  {
   "cell_type": "markdown",
   "metadata": {},
   "source": [
    "# **>>Creating polynomial in STANDERD form using Newton's method of interpolation.**\n",
    "* **Niket Gupta. - Roll no. : BT18MEC028**\n",
    "* **Rushikesh Kankal. - Roll no. : BT18MEC112**\n",
    "<br>\n",
    "<br>\n",
    "* Discussing briefly how the code ie executed :\n",
    "<br>Step: 1) Asking for the x-datapoints and the function that will be used to generate the y-datapoints or directly the y-datapoints. -{cell no. 5}\n",
    "<br>Step: 2) Creating the **Divided Difference Table** using the length of the inputed list(x-datapoints). -{cell no. 4}\n",
    "<br>Step: 3) Taking the corresponding coffecients(of newton's polynomial) from the table and generating, from them, the coffecients of polynomial in **STANDERD form**(#imp_step) and printing the polynomial. -{cell no. 2}\n",
    "<br>Step: 4) Using the coffecients(of std. form) generating the approximate polynomial and using that, ploting the graphs. -{cell no. 1 & 3}"
   ]
  },
  {
   "cell_type": "markdown",
   "metadata": {},
   "source": [
    "### 0) Importing some important libraries"
   ]
  },
  {
   "cell_type": "code",
   "execution_count": 1,
   "metadata": {},
   "outputs": [],
   "source": [
    "%matplotlib inline\n",
    "from IPython.display import display\n",
    "import numpy as np\n",
    "import pandas as pd\n",
    "from matplotlib import pyplot as plt\n",
    "from itertools import combinations\n",
    "import math as m"
   ]
  },
  {
   "cell_type": "markdown",
   "metadata": {},
   "source": [
    "### 1) Creating functions"
   ]
  },
  {
   "cell_type": "code",
   "execution_count": 2,
   "metadata": {},
   "outputs": [],
   "source": [
    "def inputed_fun(X, ans2):\n",
    "    return list(map(lambda x : eval(ans2), X))   #creating the y-datapts according to the entered function.\n",
    "\n",
    "def newton_ply(X, c):\n",
    "    def add(x):  #function which returns the function(polynomial) value at the inputed value\n",
    "        add = c[0]\n",
    "        for i in range(1, len(c)):\n",
    "            add += c[i]*x**(i)\n",
    "        return add\n",
    "    return list(map(lambda x : add(x), X))"
   ]
  },
  {
   "cell_type": "markdown",
   "metadata": {},
   "source": [
    "### 2) Generating coffecients of polynomial in STANDARD form"
   ]
  },
  {
   "cell_type": "code",
   "execution_count": 3,
   "metadata": {},
   "outputs": [],
   "source": [
    "#calculating the coffecients of polynomial in STANDARD form, ex-- (c0 + c1*x + c2*x2 +....)\n",
    "def newton_ply_fun(x, a, b1): #b1 is the length of coffecient list, x is the inputed x datapoints\n",
    "                              #and a is the coff. list of polynomial in NEWTON'S form\n",
    "    def f(j, k, x):\n",
    "        X = list(combinations(x[:j], k))  #this code is obtained by observing the repetition of certian mathimatical operations\n",
    "        result = 0                        #in the formulae created for the coffecients in STANDARD form(see the last cell containing the coff. formulae).\n",
    "        for a1 in X:\n",
    "            result += np.prod(a1)\n",
    "        return result\n",
    "    \n",
    "    coff_of_std_form = []    #list used to store the coffecients in STANDARD polynomial.\n",
    "    for i in range(b1):\n",
    "        C = a[i]\n",
    "        j = i+1\n",
    "        k, b = 1, 0\n",
    "        while j<b1:\n",
    "            if i%2 == 0:\n",
    "                b += a[j]*((-1)**(j))*f(j, k, x)\n",
    "            if i%2 != 0:\n",
    "                b += a[j]*((-1)**(j+1))*f(j, k, x)\n",
    "            k += 1\n",
    "            j += 1\n",
    "        C += b\n",
    "        if C**2<10**(-12):\n",
    "             C = 0\n",
    "        coff_of_std_form.append(C)\n",
    "        \n",
    "    #printing in the standard form \n",
    "    #print('\\n\\nThe approximated polynomial in STANDERD form is :\\n')\n",
    "    #for i in range(b1):\n",
    "    #    if i == 0:\n",
    "    #        print('({0:6.6f})'.format(coff_of_std_form[0]), end = '', sep = '')\n",
    "    #    elif i == (b1-1):\n",
    "    #        print(' + ({0:6.6f})*x^{1}'.format(coff_of_std_form[-1], i), end = '', sep = '')\n",
    "    #    else:\n",
    "    #        print(' + ({0:6.6f})*x^{1}'.format(coff_of_std_form[i], i), end = '', sep = '')\n",
    "    \n",
    "    return coff_of_std_form   #returning the list of coffecients of polynomial in STANDARD form "
   ]
  },
  {
   "cell_type": "markdown",
   "metadata": {},
   "source": [
    "### 3) Plotting function"
   ]
  },
  {
   "cell_type": "code",
   "execution_count": 4,
   "metadata": {},
   "outputs": [],
   "source": [
    "def plot(x_datapts, y_datapts, X, Y, Y1, ans, ans0, ans2):\n",
    "    if ans0 == 'y':    \n",
    "        plt.plot(X, Y)\n",
    "    plt.plot(X, Y1)\n",
    "    plt.scatter(x_datapts, y_datapts, edgecolor = 'black')\n",
    "    if ans0 == 'y':    \n",
    "        plt.legend(['y = {}'.format(ans2), 'Newton\\'s polynomial', 'Inputed data'])\n",
    "    if ans0 == 'n':    \n",
    "        plt.legend(['Newton\\'s polynomial', 'Inputed data'])\n",
    "    plt.xlabel('x-axis')\n",
    "    plt.ylabel('y-axis')\n",
    "    if ans == 'che':\n",
    "        plt.title('Newton\\'s polynomial with chebyshev Datapoints')\n",
    "    elif ans == 'not_che':\n",
    "        plt.title('Newton\\'s polynomial')\n",
    "    plt.grid(True)\n",
    "    plt.tight_layout()\n",
    "    plt.show()"
   ]
  },
  {
   "cell_type": "markdown",
   "metadata": {},
   "source": [
    "### 4) Main function"
   ]
  },
  {
   "cell_type": "code",
   "execution_count": 5,
   "metadata": {
    "scrolled": false
   },
   "outputs": [],
   "source": [
    "def main_fun(x_datapts1, y_datapts1, ans1, ans0, ans4, a, ans2):          \n",
    "    if ans1 == 'not_che':                        #converting the inputed list into python\n",
    "        x_datapts = x_datapts1\n",
    "        a = []\n",
    "        a.append(len(x_datapts))\n",
    "        if (x_datapts[0]<(-1)) | (x_datapts[-1]>(1)):  #checkng if the entered x-values are out of range([-1,1])\n",
    "            a.append('yes')\n",
    "        else:\n",
    "            a.append('no')\n",
    "        a.append(x_datapts)\n",
    "    if ans1 == 'che':\n",
    "        if a[1] == 'no':\n",
    "            x_datapts = [m.cos((2*i + 1)*m.pi/(2*a[0])) for i in range(a[0]-1, -1, -1)]\n",
    "        if a[1] == 'yes':  #if out of range and the person wants plot with chebyshev points then we have to transform the original che. points ioto new ones.\n",
    "            x_datapts = [(a[-1][0] + (m.cos((2*i + 1)*m.pi/(2*a[0])) - m.cos((2*(a[0]-1) + 1)*m.pi/(2*a[0])))*(a[-1][-1] - a[-1][0])/(m.cos((2*(0) + 1)*m.pi/(2*a[0])) - m.cos((2*(a[0]-1) + 1)*m.pi/(2*a[0])))) for i in range(a[0]-1, -1, -1)]    \n",
    "    if ans0 == 'y':\n",
    "        y_datapts = inputed_fun(x_datapts, ans2)\n",
    "    if ans0 == 'n':   #if the person don't want to use some built in function to creat y-values, so they have to enter the y-values by themselves\n",
    "        y_datapts = y_datapts1\n",
    "    \n",
    "    A = np.full((2*a[0]-1, a[0]+1), 789, dtype = np.float64)  #creating a base matrix, with each element having values = 789(randomly, to avoid converting '0' to '-', see below)\n",
    "    \n",
    "    for i in range(0, a[0]):\n",
    "        A[2*i, 0] = x_datapts[i]            #putting the values of x-data point in the matrix, 1st column\n",
    "    \n",
    "    for i in range(0, a[0]):\n",
    "        A[2*i, 1] = y_datapts[i]   #putting the values of y-datapoint in the matrix, 2nd column\n",
    "    \n",
    "    d = {'a0' : pd.Series(A[ :, 1], A[ :, 0])}  #storing in the dataform\n",
    "    \n",
    "    a_list = [y_datapts[0]]  #creating the list for coffecients in newton's polynomial\n",
    "    \n",
    "    #to creat and display the difference table                             \n",
    "    for c in range(2, a[0]+1):  #this loop to iteraite through columns, the (a+1) condition is obtained by observing the manually solved table\n",
    "        R = c-1\n",
    "        for r in range(R, 2*a[0]-c, 2):     #this loop for ittetrating through same column, the (2a-c) condition is also obtained by  observing\n",
    "            A[r, c] = (A[r+1, c-1] - A[r-1, c-1])/(A[r+(c-1), 0] - A[r-(c-1), 0])\n",
    "        d['a{}'.format(c-1)] = pd.Series( A[ :, c], A[ :, 0])\n",
    "        a_list.append(A[c-1, c])\n",
    "        \n",
    "    df = pd.DataFrame(d)        \n",
    "    d1 = df.replace( 789, '-')  #replacing '789' with '-', to make the tabel look more good.\n",
    "    \n",
    "    filter1 = (df.index != 789)  #to make the replacement changes in the index column also.\n",
    "    d2 = df.index.where( filter1, '-')\n",
    "    d1.index = d2\n",
    "    \n",
    "    if ans4 == 'y':\n",
    "        if ans1 == 'che':\n",
    "            print('\\n                  >> CHEBYSHEV DATAPOINTS <<\\nThe divided difference table is :', end = '')\n",
    "        elif ans1 == 'not_che':\n",
    "            print('\\n                  >> Normal Points(not chebyshev points) <<\\nThe divided difference table is :', end = '')\n",
    "        display(d1)\n",
    "    elif ans4 == 'n':\n",
    "        if ans1 == 'che':\n",
    "            print('\\n                  >> CHEBYSHEV DATAPOINTS <<', end = '')\n",
    "        elif ans1 == 'not_che':\n",
    "            print('\\n                  >> Normal Points(not chebyshev points) <<', end = '')\n",
    "          \n",
    "    coffecients = newton_ply_fun(x_datapts, a_list, len(a_list))  #obtaining the coffecients for STANDARD form\n",
    "    a[-1:-1] = [coffecients]\n",
    "    \n",
    "    X = []      #creating many points(200 since our range is -1 to 1 = 2, with each division = 0.01) to plot the graph smoothly\n",
    "    div = (x_datapts[-1] - x_datapts[0])/200\n",
    "    \n",
    "    if ans0 == 'n':\n",
    "        for i in range(0, 201):\n",
    "            X.append(x_datapts[0] + div*i)\n",
    "    else:\n",
    "        for i in range(0, 201):\n",
    "            X.append(x_datapts[0] + div*i)\n",
    "    \n",
    "    if ans0 == 'y':    \n",
    "        Y = inputed_fun(X, ans2)    #creating the y-datapts according to the runge function.\n",
    "    Y1 = newton_ply(X, coffecients)    #creating the y-datapts according to the newton polynomial.\n",
    "    if ans0 == 'y':\n",
    "        plot(x_datapts, y_datapts, X, Y, Y1, ans1, ans0, ans2)    #ploting the graphs\n",
    "    if ans0 == 'n':\n",
    "        plot(x_datapts, y_datapts, X, [], Y1, ans1, ans0, ans2)  #ploting the graphs\n",
    "    \n",
    "    print('---------------------------------------------------------------------------------------------\\n')\n",
    "    return a"
   ]
  },
  {
   "cell_type": "markdown",
   "metadata": {},
   "source": [
    "### 5) Interacting function"
   ]
  },
  {
   "cell_type": "code",
   "execution_count": 6,
   "metadata": {},
   "outputs": [],
   "source": [
    "def asking_to_interpolate(a2):\n",
    "    Ans5 = input(\"\\nDo you want to interpolate(i.e to calculate y-value according to the approximated polynomial) at a particular point?\\n>> Enter: y for 'yes' & n for 'no'.\\n\")\n",
    "    if Ans5 == 'y':\n",
    "        x_point_list = [ float(num) for num in input(\"\\nThen enter the x-data point(s) at which ypu want to interpolate.\\n{Note: Enter the list in the form --> -1 -0.5 0 0.5 1 }\\n\").split()]\n",
    "        y_values_list = newton_ply(x_point_list, a2[-2])\n",
    "        print(y_values_list)\n",
    "        print('-----------------------------------------------------------------------------------------\\n')\n",
    "    if Ans5 == 'n':\n",
    "        print('-----------------------------------------------------------------------------------------\\n')\n",
    "\n",
    "def Creat_polynomial():\n",
    "    x_datapts1 = [ float(num) for num in input(\"Enter the x-data points.\\n{Note: Enter the list in the DECENDING order & in the form --> -1 -0.5 0 0.5 1 }\\n\").split()]\n",
    "    Ans0 = input('''\\nDo you want to enter a function to creat y-datapoints and interpolate?\\n>> Enter: y for 'yes' & n for 'no'.\\n{Note: If your answer is 'no' then in the next step you have to enter a list of corresponding y-datapoints}\\n''') \n",
    "    if Ans0 == 'y':\n",
    "        Ans2 = input(\"\\nThen enter the function in ONLY 'x'(imp).\\n{Note: If you want to enter a trignometric functions or pi value, then use 'm.' as prefix to the entered string. ex: m.sin(x) or m.pi, etc}\\n\")\n",
    "        Ans3 = input(\"\\nDo you want to creat the polynimial with chebyshev points?\\n>> Enter: y for 'yes' & n for 'no'.\\n\")\n",
    "    if Ans0 == 'n':\n",
    "        y_datapts1 = [ float(num) for num in input(\"\\nThen enter the y-data points.\\n{Note: Enter the list in the form --> -1 -0.5 0 0.5 1 }\\n\").split()]\n",
    "    Ans4 = input(\"\\nDo you want to display divided difference table?\\n>> Enter: y for 'yes' & n for 'no'\\n\")\n",
    "    if Ans0 == 'y':\n",
    "        print('-----------------------------------------------------------------------------------------\\n')\n",
    "        a2 = main_fun(x_datapts1, '[]', 'not_che', Ans0 ,Ans4, [], Ans2)  \n",
    "        asking_to_interpolate(a2)\n",
    "        if Ans3 == 'y':\n",
    "            a2 = main_fun([], '[]', 'che', Ans0, Ans4, a2, Ans2)\n",
    "            asking_to_interpolate(a2)\n",
    "    elif Ans0 == 'n':\n",
    "        print('-----------------------------------------------------------------------------------------\\n')\n",
    "        a2 = main_fun(x_datapts1, y_datapts1, 'not_che', Ans0, Ans4, [], '')  #25 is a random values only to pass something \n",
    "        asking_to_interpolate(a2)"
   ]
  },
  {
   "cell_type": "code",
   "execution_count": 7,
   "metadata": {
    "scrolled": false
   },
   "outputs": [
    {
     "name": "stdout",
     "output_type": "stream",
     "text": [
      "Enter the x-data points.\n",
      "{Note: Enter the list in the DECENDING order & in the form --> -1 -0.5 0 0.5 1 }\n",
      "9134 7625 6231 4770 3543\n",
      "\n",
      "Do you want to enter a function to creat y-datapoints and interpolate?\n",
      ">> Enter: y for 'yes' & n for 'no'.\n",
      "{Note: If your answer is 'no' then in the next step you have to enter a list of corresponding y-datapoints}\n",
      "n\n",
      "\n",
      "Then enter the y-data points.\n",
      "{Note: Enter the list in the form --> -1 -0.5 0 0.5 1 }\n",
      "1.247923638031405e-07  3.466169707353452e-07  4.96220398249112e-07  5.634580142849914e-07  5.817471110786234e-07\n",
      "\n",
      "Do you want to display divided difference table?\n",
      ">> Enter: y for 'yes' & n for 'no'\n",
      "n\n",
      "-----------------------------------------------------------------------------------------\n",
      "\n",
      "\n",
      "                  >> Normal Points(not chebyshev points) <<"
     ]
    },
    {
     "data": {
      "image/png": "[encoded data removed]",
      "text/plain": [
       "<Figure size 432x288 with 1 Axes>"
      ]
     },
     "metadata": {
      "needs_background": "light"
     },
     "output_type": "display_data"
    },
    {
     "name": "stdout",
     "output_type": "stream",
     "text": [
      "---------------------------------------------------------------------------------------------\n",
      "\n",
      "\n",
      "Do you want to interpolate(i.e to calculate y-value according to the approximated polynomial) at a particular point?\n",
      ">> Enter: y for 'yes' & n for 'no'.\n",
      "n\n",
      "-----------------------------------------------------------------------------------------\n",
      "\n"
     ]
    }
   ],
   "source": [
    "Creat_polynomial()"
   ]
  },
  {
   "cell_type": "code",
   "execution_count": null,
   "metadata": {},
   "outputs": [],
   "source": [
    "runge function = 1/(1+12*x**2)\n",
    "runge function = 1/(1+25*x**2)\n",
    "sin function = m.sin(x*(m.pi/180))\n",
    "cos function = m.cos(x*(m.pi/180))\n",
    "\n",
    "equal intervals(5) -- -1 -0.5 0 0.5 1\n",
    "\n",
    "equal intervals(6) -- -1 -0.6 -0.2 0.2 0.6 1\n",
    "\n",
    "equal intervals(7) -- -1 -0.66666666 -0.3333333 0 0.3333333 0.666666666 1\n",
    "\n",
    "equal intervals(8) -- -1 -0.714285 -0.428571 -0.142857 0.142857 0.428571 0.714285 1\n",
    "\n",
    "equal intervals(9) -- -1 -0.75 -0.5 -0.25 0 0.25 0.5 0.75 1\n",
    "\n",
    "equal intervals(10) -- -1 -0.777778 -0.555556 -0.333333 -0.111111 0.111111 0.333333 0.555556 0.777776 1\n",
    "\n",
    "equal intervals(11) -- -1 -0.8 -0.6 -0.4 -0.2 0 0.2 0.4 0.6 0.8 1\n",
    "\n",
    "equal intervals(12) -- -1 -0.8181818 -0.6363636 -0.4545454 -0.2727272 -0.090909 0.090909 0.2727272 0.4545454 0.6363636 0.8181818 1\n",
    "\n",
    "equal intervals(13) -- -1 -0.9 -0.8 -0.6 -0.4 -0.2 0 0.2 0.4 0.6 0.8 0.9 1\n",
    "\n",
    "equal intervals(14) -- -1 -0.153846 -0.384615 -0.230769 -0.076923 0.076923 0.230769 0.384615 0.153846 1\n",
    "\n",
    "equal intervals(15) -- -1 -0.8571428 -0.7142857 -0.57142857 -0.4285714 -0.28571428 -0.142857 0 0.142857 0.28571428 0.4285714 0.57142857 0.7142857 0.8571428 1\n",
    "\n",
    "chebyshev points(5) -- [-0.9510, -0.5877, 0, 0.5877, 0.9510]\n",
    "chebyshev points(6) -- [-0.9659, -0.7071, -0.2588, 0.25880, 0.7071, 0.9659]\n",
    "chebyshev intervals(7) -- [-0.9749, -0.7818, -0.4338, 0, 0.4338, 0.7818, 0.9749]\n",
    "chebyshev intervals(11) -- [-0.9898, -0.9096, -0.7557, -0.5406, -0.2817, 0, 0.2817, 0.5406, 0.7557, 0.9096, 0.9898]"
   ]
  },
  {
   "cell_type": "code",
   "execution_count": null,
   "metadata": {},
   "outputs": [],
   "source": []
  }
 ],
 "metadata": {
  "kernelspec": {
   "display_name": "Python 3",
   "language": "python",
   "name": "python3"
  },
  "language_info": {
   "codemirror_mode": {
    "name": "ipython",
    "version": 3
   },
   "file_extension": ".py",
   "mimetype": "text/x-python",
   "name": "python",
   "nbconvert_exporter": "python",
   "pygments_lexer": "ipython3",
   "version": "3.8.3"
  }
 },
 "nbformat": 4,
 "nbformat_minor": 4
}
